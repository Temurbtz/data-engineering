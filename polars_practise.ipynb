{
 "cells": [
  {
   "cell_type": "code",
   "execution_count": 1,
   "id": "cd74d734-0853-44b5-918c-9ba92da1b128",
   "metadata": {},
   "outputs": [],
   "source": [
    "import polars as pl\n",
    "\n",
    "df=pl.read_csv('size.csv')\n"
   ]
  },
  {
   "cell_type": "code",
   "execution_count": 2,
   "id": "7d3ae0fb-358e-4597-b059-af28792be71c",
   "metadata": {},
   "outputs": [
    {
     "data": {
      "text/plain": [
       "(25000, 3)"
      ]
     },
     "execution_count": 2,
     "metadata": {},
     "output_type": "execute_result"
    }
   ],
   "source": [
    "df.shape"
   ]
  },
  {
   "cell_type": "code",
   "execution_count": 3,
   "id": "7cecf308-c2df-49ee-8288-cb789ab5e851",
   "metadata": {},
   "outputs": [
    {
     "data": {
      "text/html": [
       "<div><style>\n",
       ".dataframe > thead > tr,\n",
       ".dataframe > tbody > tr {\n",
       "  text-align: right;\n",
       "  white-space: pre-wrap;\n",
       "}\n",
       "</style>\n",
       "<small>shape: (5, 3)</small><table border=\"1\" class=\"dataframe\"><thead><tr><th>index</th><th>height</th><th>weight</th></tr><tr><td>i64</td><td>f64</td><td>f64</td></tr></thead><tbody><tr><td>1</td><td>65.78331</td><td>112.9925</td></tr><tr><td>2</td><td>71.51521</td><td>136.4873</td></tr><tr><td>3</td><td>69.39874</td><td>153.0269</td></tr><tr><td>4</td><td>68.2166</td><td>142.3354</td></tr><tr><td>5</td><td>67.78781</td><td>144.2971</td></tr></tbody></table></div>"
      ],
      "text/plain": [
       "shape: (5, 3)\n",
       "┌───────┬──────────┬──────────┐\n",
       "│ index ┆ height   ┆ weight   │\n",
       "│ ---   ┆ ---      ┆ ---      │\n",
       "│ i64   ┆ f64      ┆ f64      │\n",
       "╞═══════╪══════════╪══════════╡\n",
       "│ 1     ┆ 65.78331 ┆ 112.9925 │\n",
       "│ 2     ┆ 71.51521 ┆ 136.4873 │\n",
       "│ 3     ┆ 69.39874 ┆ 153.0269 │\n",
       "│ 4     ┆ 68.2166  ┆ 142.3354 │\n",
       "│ 5     ┆ 67.78781 ┆ 144.2971 │\n",
       "└───────┴──────────┴──────────┘"
      ]
     },
     "execution_count": 3,
     "metadata": {},
     "output_type": "execute_result"
    }
   ],
   "source": [
    "df.head()"
   ]
  },
  {
   "cell_type": "code",
   "execution_count": 7,
   "id": "dba775f7-0500-41be-8a75-22e0d5dde282",
   "metadata": {},
   "outputs": [
    {
     "data": {
      "text/html": [
       "<div><style>\n",
       ".dataframe > thead > tr,\n",
       ".dataframe > tbody > tr {\n",
       "  text-align: right;\n",
       "  white-space: pre-wrap;\n",
       "}\n",
       "</style>\n",
       "<small>shape: (5, 3)</small><table border=\"1\" class=\"dataframe\"><thead><tr><th>index</th><th>height</th><th>weight</th></tr><tr><td>i64</td><td>f64</td><td>f64</td></tr></thead><tbody><tr><td>139</td><td>73.90107</td><td>151.3913</td></tr><tr><td>175</td><td>73.83364</td><td>139.2983</td></tr><tr><td>270</td><td>73.26872</td><td>130.2636</td></tr><tr><td>1163</td><td>74.24899</td><td>150.2167</td></tr><tr><td>1384</td><td>74.19488</td><td>129.0597</td></tr></tbody></table></div>"
      ],
      "text/plain": [
       "shape: (5, 3)\n",
       "┌───────┬──────────┬──────────┐\n",
       "│ index ┆ height   ┆ weight   │\n",
       "│ ---   ┆ ---      ┆ ---      │\n",
       "│ i64   ┆ f64      ┆ f64      │\n",
       "╞═══════╪══════════╪══════════╡\n",
       "│ 139   ┆ 73.90107 ┆ 151.3913 │\n",
       "│ 175   ┆ 73.83364 ┆ 139.2983 │\n",
       "│ 270   ┆ 73.26872 ┆ 130.2636 │\n",
       "│ 1163  ┆ 74.24899 ┆ 150.2167 │\n",
       "│ 1384  ┆ 74.19488 ┆ 129.0597 │\n",
       "└───────┴──────────┴──────────┘"
      ]
     },
     "execution_count": 7,
     "metadata": {},
     "output_type": "execute_result"
    }
   ],
   "source": [
    "df.filter(pl.col('height')>73).head()"
   ]
  },
  {
   "cell_type": "code",
   "execution_count": 8,
   "id": "ce2e57b4-741d-4156-983d-213fcde861e3",
   "metadata": {},
   "outputs": [
    {
     "data": {
      "text/html": [
       "<div><style>\n",
       ".dataframe > thead > tr,\n",
       ".dataframe > tbody > tr {\n",
       "  text-align: right;\n",
       "  white-space: pre-wrap;\n",
       "}\n",
       "</style>\n",
       "<small>shape: (1, 3)</small><table border=\"1\" class=\"dataframe\"><thead><tr><th>index</th><th>height</th><th>weight</th></tr><tr><td>i64</td><td>f64</td><td>f64</td></tr></thead><tbody><tr><td>1</td><td>65.78331</td><td>112.9925</td></tr></tbody></table></div>"
      ],
      "text/plain": [
       "shape: (1, 3)\n",
       "┌───────┬──────────┬──────────┐\n",
       "│ index ┆ height   ┆ weight   │\n",
       "│ ---   ┆ ---      ┆ ---      │\n",
       "│ i64   ┆ f64      ┆ f64      │\n",
       "╞═══════╪══════════╪══════════╡\n",
       "│ 1     ┆ 65.78331 ┆ 112.9925 │\n",
       "└───────┴──────────┴──────────┘"
      ]
     },
     "execution_count": 8,
     "metadata": {},
     "output_type": "execute_result"
    }
   ],
   "source": [
    "df[0,:]"
   ]
  },
  {
   "cell_type": "code",
   "execution_count": 9,
   "id": "d020786a-27a3-4a36-94c7-2c92737d67b7",
   "metadata": {},
   "outputs": [
    {
     "data": {
      "text/html": [
       "<div><style>\n",
       ".dataframe > thead > tr,\n",
       ".dataframe > tbody > tr {\n",
       "  text-align: right;\n",
       "  white-space: pre-wrap;\n",
       "}\n",
       "</style>\n",
       "<small>shape: (5, 2)</small><table border=\"1\" class=\"dataframe\"><thead><tr><th>height</th><th>weight</th></tr><tr><td>f64</td><td>f64</td></tr></thead><tbody><tr><td>65.78331</td><td>112.9925</td></tr><tr><td>71.51521</td><td>136.4873</td></tr><tr><td>69.39874</td><td>153.0269</td></tr><tr><td>68.2166</td><td>142.3354</td></tr><tr><td>67.78781</td><td>144.2971</td></tr></tbody></table></div>"
      ],
      "text/plain": [
       "shape: (5, 2)\n",
       "┌──────────┬──────────┐\n",
       "│ height   ┆ weight   │\n",
       "│ ---      ┆ ---      │\n",
       "│ f64      ┆ f64      │\n",
       "╞══════════╪══════════╡\n",
       "│ 65.78331 ┆ 112.9925 │\n",
       "│ 71.51521 ┆ 136.4873 │\n",
       "│ 69.39874 ┆ 153.0269 │\n",
       "│ 68.2166  ┆ 142.3354 │\n",
       "│ 67.78781 ┆ 144.2971 │\n",
       "└──────────┴──────────┘"
      ]
     },
     "execution_count": 9,
     "metadata": {},
     "output_type": "execute_result"
    }
   ],
   "source": [
    "df[:,['height', \"weight\"]].head()"
   ]
  },
  {
   "cell_type": "code",
   "execution_count": 10,
   "id": "3e530c7b-daec-41d0-838d-0526a27be0f5",
   "metadata": {},
   "outputs": [
    {
     "data": {
      "text/html": [
       "<div><style>\n",
       ".dataframe > thead > tr,\n",
       ".dataframe > tbody > tr {\n",
       "  text-align: right;\n",
       "  white-space: pre-wrap;\n",
       "}\n",
       "</style>\n",
       "<small>shape: (5, 1)</small><table border=\"1\" class=\"dataframe\"><thead><tr><th>height</th></tr><tr><td>f64</td></tr></thead><tbody><tr><td>65.78331</td></tr><tr><td>71.51521</td></tr><tr><td>69.39874</td></tr><tr><td>68.2166</td></tr><tr><td>67.78781</td></tr></tbody></table></div>"
      ],
      "text/plain": [
       "shape: (5, 1)\n",
       "┌──────────┐\n",
       "│ height   │\n",
       "│ ---      │\n",
       "│ f64      │\n",
       "╞══════════╡\n",
       "│ 65.78331 │\n",
       "│ 71.51521 │\n",
       "│ 69.39874 │\n",
       "│ 68.2166  │\n",
       "│ 67.78781 │\n",
       "└──────────┘"
      ]
     },
     "execution_count": 10,
     "metadata": {},
     "output_type": "execute_result"
    }
   ],
   "source": [
    "df.select(['height']).head()"
   ]
  },
  {
   "cell_type": "code",
   "execution_count": 11,
   "id": "bd170621-5d32-4f39-a5d0-9018a6ee4451",
   "metadata": {},
   "outputs": [
    {
     "data": {
      "text/html": [
       "<div><style>\n",
       ".dataframe > thead > tr,\n",
       ".dataframe > tbody > tr {\n",
       "  text-align: right;\n",
       "  white-space: pre-wrap;\n",
       "}\n",
       "</style>\n",
       "<small>shape: (5, 4)</small><table border=\"1\" class=\"dataframe\"><thead><tr><th>index</th><th>height</th><th>weight</th><th>price_x_100</th></tr><tr><td>i64</td><td>f64</td><td>f64</td><td>f64</td></tr></thead><tbody><tr><td>1</td><td>65.78331</td><td>112.9925</td><td>0.6578331</td></tr><tr><td>2</td><td>71.51521</td><td>136.4873</td><td>0.7151521</td></tr><tr><td>3</td><td>69.39874</td><td>153.0269</td><td>0.6939874</td></tr><tr><td>4</td><td>68.2166</td><td>142.3354</td><td>0.682166</td></tr><tr><td>5</td><td>67.78781</td><td>144.2971</td><td>0.677878</td></tr></tbody></table></div>"
      ],
      "text/plain": [
       "shape: (5, 4)\n",
       "┌───────┬──────────┬──────────┬─────────────┐\n",
       "│ index ┆ height   ┆ weight   ┆ price_x_100 │\n",
       "│ ---   ┆ ---      ┆ ---      ┆ ---         │\n",
       "│ i64   ┆ f64      ┆ f64      ┆ f64         │\n",
       "╞═══════╪══════════╪══════════╪═════════════╡\n",
       "│ 1     ┆ 65.78331 ┆ 112.9925 ┆ 0.6578331   │\n",
       "│ 2     ┆ 71.51521 ┆ 136.4873 ┆ 0.7151521   │\n",
       "│ 3     ┆ 69.39874 ┆ 153.0269 ┆ 0.6939874   │\n",
       "│ 4     ┆ 68.2166  ┆ 142.3354 ┆ 0.682166    │\n",
       "│ 5     ┆ 67.78781 ┆ 144.2971 ┆ 0.677878    │\n",
       "└───────┴──────────┴──────────┴─────────────┘"
      ]
     },
     "execution_count": 11,
     "metadata": {},
     "output_type": "execute_result"
    }
   ],
   "source": [
    "df.with_columns([\n",
    "    (pl.col(\"height\") / 100).alias(\"price_x_100\")\n",
    "]).head()"
   ]
  },
  {
   "cell_type": "code",
   "execution_count": 12,
   "id": "30b088e9-c874-41de-ae7b-336e85f3a2b7",
   "metadata": {},
   "outputs": [
    {
     "data": {
      "text/html": [
       "<div><style>\n",
       ".dataframe > thead > tr,\n",
       ".dataframe > tbody > tr {\n",
       "  text-align: right;\n",
       "  white-space: pre-wrap;\n",
       "}\n",
       "</style>\n",
       "<small>shape: (0, 3)</small><table border=\"1\" class=\"dataframe\"><thead><tr><th>index</th><th>height</th><th>weight</th></tr><tr><td>i64</td><td>f64</td><td>f64</td></tr></thead><tbody></tbody></table></div>"
      ],
      "text/plain": [
       "shape: (0, 3)\n",
       "┌───────┬────────┬────────┐\n",
       "│ index ┆ height ┆ weight │\n",
       "│ ---   ┆ ---    ┆ ---    │\n",
       "│ i64   ┆ f64    ┆ f64    │\n",
       "╞═══════╪════════╪════════╡\n",
       "└───────┴────────┴────────┘"
      ]
     },
     "execution_count": 12,
     "metadata": {},
     "output_type": "execute_result"
    }
   ],
   "source": [
    "df.filter(\n",
    "    pl.col('height').is_in([70.34,71.34])\n",
    ").head()"
   ]
  },
  {
   "cell_type": "code",
   "execution_count": 13,
   "id": "a5d01a37-0ff0-4d5d-bb01-25867531a8ef",
   "metadata": {},
   "outputs": [
    {
     "data": {
      "text/html": [
       "<div><style>\n",
       ".dataframe > thead > tr,\n",
       ".dataframe > tbody > tr {\n",
       "  text-align: right;\n",
       "  white-space: pre-wrap;\n",
       "}\n",
       "</style>\n",
       "<small>shape: (1, 2)</small><table border=\"1\" class=\"dataframe\"><thead><tr><th>min_height</th><th>mean_height</th></tr><tr><td>f64</td><td>f64</td></tr></thead><tbody><tr><td>60.27836</td><td>127.079421</td></tr></tbody></table></div>"
      ],
      "text/plain": [
       "shape: (1, 2)\n",
       "┌────────────┬─────────────┐\n",
       "│ min_height ┆ mean_height │\n",
       "│ ---        ┆ ---         │\n",
       "│ f64        ┆ f64         │\n",
       "╞════════════╪═════════════╡\n",
       "│ 60.27836   ┆ 127.079421  │\n",
       "└────────────┴─────────────┘"
      ]
     },
     "execution_count": 13,
     "metadata": {},
     "output_type": "execute_result"
    }
   ],
   "source": [
    "df.select([\n",
    "    pl.col(\"height\").min().alias(\"min_height\"),\n",
    "    pl.col(\"weight\").mean().alias(\"mean_height\"),\n",
    "])"
   ]
  },
  {
   "cell_type": "code",
   "execution_count": 14,
   "id": "67464270-3846-4b44-a192-f5b8880b6d6e",
   "metadata": {},
   "outputs": [
    {
     "data": {
      "text/html": [
       "<div><style>\n",
       ".dataframe > thead > tr,\n",
       ".dataframe > tbody > tr {\n",
       "  text-align: right;\n",
       "  white-space: pre-wrap;\n",
       "}\n",
       "</style>\n",
       "<small>shape: (9, 2)</small><table border=\"1\" class=\"dataframe\"><thead><tr><th>describe</th><th>height</th></tr><tr><td>str</td><td>f64</td></tr></thead><tbody><tr><td>&quot;count&quot;</td><td>25000.0</td></tr><tr><td>&quot;null_count&quot;</td><td>0.0</td></tr><tr><td>&quot;mean&quot;</td><td>67.993114</td></tr><tr><td>&quot;std&quot;</td><td>1.901679</td></tr><tr><td>&quot;min&quot;</td><td>60.27836</td></tr><tr><td>&quot;25%&quot;</td><td>66.70442</td></tr><tr><td>&quot;50%&quot;</td><td>67.99592</td></tr><tr><td>&quot;75%&quot;</td><td>69.27294</td></tr><tr><td>&quot;max&quot;</td><td>75.1528</td></tr></tbody></table></div>"
      ],
      "text/plain": [
       "shape: (9, 2)\n",
       "┌────────────┬───────────┐\n",
       "│ describe   ┆ height    │\n",
       "│ ---        ┆ ---       │\n",
       "│ str        ┆ f64       │\n",
       "╞════════════╪═══════════╡\n",
       "│ count      ┆ 25000.0   │\n",
       "│ null_count ┆ 0.0       │\n",
       "│ mean       ┆ 67.993114 │\n",
       "│ std        ┆ 1.901679  │\n",
       "│ min        ┆ 60.27836  │\n",
       "│ 25%        ┆ 66.70442  │\n",
       "│ 50%        ┆ 67.99592  │\n",
       "│ 75%        ┆ 69.27294  │\n",
       "│ max        ┆ 75.1528   │\n",
       "└────────────┴───────────┘"
      ]
     },
     "execution_count": 14,
     "metadata": {},
     "output_type": "execute_result"
    }
   ],
   "source": [
    "df.select([\n",
    "    pl.col(\"height\")\n",
    "]).describe()"
   ]
  },
  {
   "cell_type": "code",
   "execution_count": 19,
   "id": "d8ca0ace-2246-4e47-bcd0-9889c3ad07a7",
   "metadata": {},
   "outputs": [
    {
     "data": {
      "text/html": [
       "<div><style>\n",
       ".dataframe > thead > tr,\n",
       ".dataframe > tbody > tr {\n",
       "  text-align: right;\n",
       "  white-space: pre-wrap;\n",
       "}\n",
       "</style>\n",
       "<small>shape: (9, 2)</small><table border=\"1\" class=\"dataframe\"><thead><tr><th>describe</th><th>index</th></tr><tr><td>str</td><td>f64</td></tr></thead><tbody><tr><td>&quot;count&quot;</td><td>25000.0</td></tr><tr><td>&quot;null_count&quot;</td><td>0.0</td></tr><tr><td>&quot;mean&quot;</td><td>12500.5</td></tr><tr><td>&quot;std&quot;</td><td>7217.022701</td></tr><tr><td>&quot;min&quot;</td><td>1.0</td></tr><tr><td>&quot;25%&quot;</td><td>6251.0</td></tr><tr><td>&quot;50%&quot;</td><td>12501.0</td></tr><tr><td>&quot;75%&quot;</td><td>18750.0</td></tr><tr><td>&quot;max&quot;</td><td>25000.0</td></tr></tbody></table></div>"
      ],
      "text/plain": [
       "shape: (9, 2)\n",
       "┌────────────┬─────────────┐\n",
       "│ describe   ┆ index       │\n",
       "│ ---        ┆ ---         │\n",
       "│ str        ┆ f64         │\n",
       "╞════════════╪═════════════╡\n",
       "│ count      ┆ 25000.0     │\n",
       "│ null_count ┆ 0.0         │\n",
       "│ mean       ┆ 12500.5     │\n",
       "│ std        ┆ 7217.022701 │\n",
       "│ min        ┆ 1.0         │\n",
       "│ 25%        ┆ 6251.0      │\n",
       "│ 50%        ┆ 12501.0     │\n",
       "│ 75%        ┆ 18750.0     │\n",
       "│ max        ┆ 25000.0     │\n",
       "└────────────┴─────────────┘"
      ]
     },
     "execution_count": 19,
     "metadata": {},
     "output_type": "execute_result"
    }
   ],
   "source": [
    "df.select([\n",
    "    pl.col(\"index\")\n",
    "]).describe()"
   ]
  },
  {
   "cell_type": "code",
   "execution_count": 31,
   "id": "d043b3e3-bd26-46ee-a1f0-d35c8abefe7b",
   "metadata": {},
   "outputs": [
    {
     "name": "stdout",
     "output_type": "stream",
     "text": [
      "shape: (5, 4)\n",
      "┌───────┬──────────┬──────────┬─────────────────────┐\n",
      "│ index ┆ height   ┆ weight   ┆ height_weight_ratio │\n",
      "│ ---   ┆ ---      ┆ ---      ┆ ---                 │\n",
      "│ i64   ┆ f64      ┆ f64      ┆ f64                 │\n",
      "╞═══════╪══════════╪══════════╪═════════════════════╡\n",
      "│ 1     ┆ 65.78331 ┆ 112.9925 ┆ 0.582192            │\n",
      "│ 2     ┆ 71.51521 ┆ 136.4873 ┆ 0.52397             │\n",
      "│ 3     ┆ 69.39874 ┆ 153.0269 ┆ 0.453507            │\n",
      "│ 4     ┆ 68.2166  ┆ 142.3354 ┆ 0.479267            │\n",
      "│ 5     ┆ 67.78781 ┆ 144.2971 ┆ 0.469779            │\n",
      "└───────┴──────────┴──────────┴─────────────────────┘\n"
     ]
    }
   ],
   "source": [
    "df_height_weight_ratio=df.with_columns(\n",
    "    (pl.col(\"height\")/pl.col(\"weight\")).alias(\"height_weight_ratio\")\n",
    ")\n",
    "print(df_height_weight_ratio.head())"
   ]
  },
  {
   "cell_type": "code",
   "execution_count": 30,
   "id": "39669883-a5cf-4ed2-8743-1b52e01a9c13",
   "metadata": {},
   "outputs": [
    {
     "data": {
      "text/html": [
       "<div><style>\n",
       ".dataframe > thead > tr,\n",
       ".dataframe > tbody > tr {\n",
       "  text-align: right;\n",
       "  white-space: pre-wrap;\n",
       "}\n",
       "</style>\n",
       "<small>shape: (5, 4)</small><table border=\"1\" class=\"dataframe\"><thead><tr><th>index</th><th>height</th><th>weight</th><th>height_weight_ratio</th></tr><tr><td>i64</td><td>f64</td><td>f64</td><td>f64</td></tr></thead><tbody><tr><td>9</td><td>67.90265</td><td>112.3723</td><td>0.604265</td></tr><tr><td>23</td><td>63.48115</td><td>97.90191</td><td>0.648416</td></tr><tr><td>29</td><td>66.53401</td><td>108.3324</td><td>0.614165</td></tr><tr><td>31</td><td>69.5233</td><td>103.3016</td><td>0.673013</td></tr><tr><td>40</td><td>64.04535</td><td>106.7115</td><td>0.600173</td></tr></tbody></table></div>"
      ],
      "text/plain": [
       "shape: (5, 4)\n",
       "┌───────┬──────────┬──────────┬─────────────────────┐\n",
       "│ index ┆ height   ┆ weight   ┆ height_weight_ratio │\n",
       "│ ---   ┆ ---      ┆ ---      ┆ ---                 │\n",
       "│ i64   ┆ f64      ┆ f64      ┆ f64                 │\n",
       "╞═══════╪══════════╪══════════╪═════════════════════╡\n",
       "│ 9     ┆ 67.90265 ┆ 112.3723 ┆ 0.604265            │\n",
       "│ 23    ┆ 63.48115 ┆ 97.90191 ┆ 0.648416            │\n",
       "│ 29    ┆ 66.53401 ┆ 108.3324 ┆ 0.614165            │\n",
       "│ 31    ┆ 69.5233  ┆ 103.3016 ┆ 0.673013            │\n",
       "│ 40    ┆ 64.04535 ┆ 106.7115 ┆ 0.600173            │\n",
       "└───────┴──────────┴──────────┴─────────────────────┘"
      ]
     },
     "execution_count": 30,
     "metadata": {},
     "output_type": "execute_result"
    }
   ],
   "source": [
    "df_height_weight_ratio.filter(pl.col(\"height_weight_ratio\")>0.6).head()"
   ]
  },
  {
   "cell_type": "code",
   "execution_count": 33,
   "id": "9ba31ab8-44ae-4fdf-846c-c179c1029242",
   "metadata": {},
   "outputs": [
    {
     "name": "stdout",
     "output_type": "stream",
     "text": [
      "shape: (25_000, 5)\n",
      "┌───────┬──────────┬──────────┬─────────────────────┬─────────────────────┐\n",
      "│ index ┆ height   ┆ weight   ┆ height_weight_ratio ┆ weight_height_ratio │\n",
      "│ ---   ┆ ---      ┆ ---      ┆ ---                 ┆ ---                 │\n",
      "│ i64   ┆ f64      ┆ f64      ┆ f64                 ┆ f64                 │\n",
      "╞═══════╪══════════╪══════════╪═════════════════════╪═════════════════════╡\n",
      "│ 1     ┆ 65.78331 ┆ 112.9925 ┆ 0.582192            ┆ 1.717647            │\n",
      "│ 2     ┆ 71.51521 ┆ 136.4873 ┆ 0.52397             ┆ 1.908507            │\n",
      "│ 3     ┆ 69.39874 ┆ 153.0269 ┆ 0.453507            ┆ 2.205039            │\n",
      "│ 4     ┆ 68.2166  ┆ 142.3354 ┆ 0.479267            ┆ 2.086521            │\n",
      "│ …     ┆ …        ┆ …        ┆ …                   ┆ …                   │\n",
      "│ 24997 ┆ 64.54826 ┆ 120.1932 ┆ 0.537038            ┆ 1.862067            │\n",
      "│ 24998 ┆ 64.69855 ┆ 118.2655 ┆ 0.547062            ┆ 1.827947            │\n",
      "│ 24999 ┆ 67.52918 ┆ 132.2682 ┆ 0.510547            ┆ 1.958682            │\n",
      "│ 25000 ┆ 68.87761 ┆ 124.8742 ┆ 0.551576            ┆ 1.812987            │\n",
      "└───────┴──────────┴──────────┴─────────────────────┴─────────────────────┘\n"
     ]
    }
   ],
   "source": [
    "df_weight_height_ratio=df_height_weight_ratio.with_columns(\n",
    "   (pl.col(\"weight\")/pl.col(\"height\")).alias(\"weight_height_ratio\")\n",
    ")\n",
    "print(df_weight_height_ratio)"
   ]
  },
  {
   "cell_type": "code",
   "execution_count": 38,
   "id": "29099831-ede8-4481-8a07-de5de8051667",
   "metadata": {},
   "outputs": [
    {
     "data": {
      "text/html": [
       "<div><style>\n",
       ".dataframe > thead > tr,\n",
       ".dataframe > tbody > tr {\n",
       "  text-align: right;\n",
       "  white-space: pre-wrap;\n",
       "}\n",
       "</style>\n",
       "<small>shape: (5, 5)</small><table border=\"1\" class=\"dataframe\"><thead><tr><th>index</th><th>height</th><th>weight</th><th>height_weight_ratio</th><th>weight_height_ratio</th></tr><tr><td>i64</td><td>f64</td><td>f64</td><td>f64</td><td>f64</td></tr></thead><tbody><tr><td>3</td><td>69.39874</td><td>153.0269</td><td>0.453507</td><td>2.205039</td></tr><tr><td>57</td><td>70.40617</td><td>155.8987</td><td>0.451615</td><td>2.214276</td></tr><tr><td>83</td><td>70.05147</td><td>155.3767</td><td>0.450849</td><td>2.218036</td></tr><tr><td>157</td><td>70.98112</td><td>158.9562</td><td>0.446545</td><td>2.239415</td></tr><tr><td>288</td><td>69.93715</td><td>155.3046</td><td>0.450322</td><td>2.220631</td></tr></tbody></table></div>"
      ],
      "text/plain": [
       "shape: (5, 5)\n",
       "┌───────┬──────────┬──────────┬─────────────────────┬─────────────────────┐\n",
       "│ index ┆ height   ┆ weight   ┆ height_weight_ratio ┆ weight_height_ratio │\n",
       "│ ---   ┆ ---      ┆ ---      ┆ ---                 ┆ ---                 │\n",
       "│ i64   ┆ f64      ┆ f64      ┆ f64                 ┆ f64                 │\n",
       "╞═══════╪══════════╪══════════╪═════════════════════╪═════════════════════╡\n",
       "│ 3     ┆ 69.39874 ┆ 153.0269 ┆ 0.453507            ┆ 2.205039            │\n",
       "│ 57    ┆ 70.40617 ┆ 155.8987 ┆ 0.451615            ┆ 2.214276            │\n",
       "│ 83    ┆ 70.05147 ┆ 155.3767 ┆ 0.450849            ┆ 2.218036            │\n",
       "│ 157   ┆ 70.98112 ┆ 158.9562 ┆ 0.446545            ┆ 2.239415            │\n",
       "│ 288   ┆ 69.93715 ┆ 155.3046 ┆ 0.450322            ┆ 2.220631            │\n",
       "└───────┴──────────┴──────────┴─────────────────────┴─────────────────────┘"
      ]
     },
     "execution_count": 38,
     "metadata": {},
     "output_type": "execute_result"
    }
   ],
   "source": [
    "df_weight_height_ratio.filter(pl.col(\"weight_height_ratio\")>2.2).head()"
   ]
  },
  {
   "cell_type": "code",
   "execution_count": 39,
   "id": "a6e4c2f8-7e8e-4ee1-b0c5-573c2b54bb5f",
   "metadata": {},
   "outputs": [],
   "source": [
    "df=pl.read_csv(\"size.csv\").lazy()\n"
   ]
  },
  {
   "cell_type": "code",
   "execution_count": 43,
   "id": "f95cd101-fb5a-4967-b3b8-9163012aea2d",
   "metadata": {},
   "outputs": [
    {
     "name": "stdout",
     "output_type": "stream",
     "text": [
      "shape: (25_000, 1)\n",
      "┌──────────┐\n",
      "│ height   │\n",
      "│ ---      │\n",
      "│ f64      │\n",
      "╞══════════╡\n",
      "│ 65.78331 │\n",
      "│ 71.51521 │\n",
      "│ 69.39874 │\n",
      "│ 68.2166  │\n",
      "│ …        │\n",
      "│ 64.54826 │\n",
      "│ 64.69855 │\n",
      "│ 67.52918 │\n",
      "│ 68.87761 │\n",
      "└──────────┘\n"
     ]
    }
   ],
   "source": [
    "cts=pl.SQLContext(mytable1=df)\n",
    "table=cts.execute(\"SELECT height FROM mytable1;\",eager=True)\n",
    "print(table)"
   ]
  },
  {
   "cell_type": "code",
   "execution_count": 48,
   "id": "e8c3828a-d6d1-464f-b47c-29b240d6a2dc",
   "metadata": {},
   "outputs": [
    {
     "name": "stdout",
     "output_type": "stream",
     "text": [
      "shape: (25_000, 1)\n",
      "┌───────┐\n",
      "│ index │\n",
      "│ ---   │\n",
      "│ i64   │\n",
      "╞═══════╡\n",
      "│ 1     │\n",
      "│ 2     │\n",
      "│ 3     │\n",
      "│ 4     │\n",
      "│ …     │\n",
      "│ 24997 │\n",
      "│ 24998 │\n",
      "│ 24999 │\n",
      "│ 25000 │\n",
      "└───────┘\n"
     ]
    }
   ],
   "source": [
    "table=cts.execute(\"SELECT index FROM mytable1;\",eager=True)\n",
    "print(table)"
   ]
  },
  {
   "cell_type": "code",
   "execution_count": 49,
   "id": "d463622f-89aa-4ed0-aa88-a8eb407e3892",
   "metadata": {},
   "outputs": [
    {
     "name": "stdout",
     "output_type": "stream",
     "text": [
      "shape: (25_000, 1)\n",
      "┌───────┐\n",
      "│ index │\n",
      "│ ---   │\n",
      "│ i64   │\n",
      "╞═══════╡\n",
      "│ 1     │\n",
      "│ 2     │\n",
      "│ 3     │\n",
      "│ 4     │\n",
      "│ …     │\n",
      "│ 24997 │\n",
      "│ 24998 │\n",
      "│ 24999 │\n",
      "│ 25000 │\n",
      "└───────┘\n"
     ]
    }
   ],
   "source": [
    "print(table)"
   ]
  },
  {
   "cell_type": "code",
   "execution_count": null,
   "id": "48ec1802-5586-4666-b6ab-213d57858423",
   "metadata": {},
   "outputs": [],
   "source": []
  }
 ],
 "metadata": {
  "kernelspec": {
   "display_name": "Python 3 (ipykernel)",
   "language": "python",
   "name": "python3"
  },
  "language_info": {
   "codemirror_mode": {
    "name": "ipython",
    "version": 3
   },
   "file_extension": ".py",
   "mimetype": "text/x-python",
   "name": "python",
   "nbconvert_exporter": "python",
   "pygments_lexer": "ipython3",
   "version": "3.12.1"
  }
 },
 "nbformat": 4,
 "nbformat_minor": 5
}
